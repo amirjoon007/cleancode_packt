{
 "cells": [
  {
   "cell_type": "markdown",
   "id": "4d66d59c-117c-4cea-ae05-4a6eda4b5e74",
   "metadata": {
    "id": "4d66d59c-117c-4cea-ae05-4a6eda4b5e74"
   },
   "source": [
    "<h1>\n",
    "  <span style=\"color: #1E90FF;\">Clean </span>  <!-- DodgerBlue -->\n",
    "  <span style=\"color: #32CD32;\">Code </span>   <!-- LimeGreen -->\n",
    "  <span style=\"color: #FFA500;\">Learning</span> <!-- Orange -->\n",
    "</h1>\n"
   ]
  },
  {
   "cell_type": "markdown",
   "id": "hlEctMx8_Pon",
   "metadata": {
    "id": "hlEctMx8_Pon"
   },
   "source": [
    "<hr><h2>Chapter 2 : Pythonic Code </h2>\n",
    "<h4>Intro :</h4>\n",
    "<p>In this chapter, Our focus is on understanding and implementing Pythonic code and writing code in a way that is idiomatic to Python.</p><br>\n",
    "<h5>The goals for this chapter : </h5>\n",
    "<li>To understand indices and slices, and correctly implement objects that can be indexed</li>\n",
    "\n",
    "<li>To implement sequences and other iterables</li>\n",
    "<li>To learn about good use cases for context managers, and how to write effective ones.</li>\n",
    "<li>To implement more idiomatic code through magic methods </li>\n",
    "<li>To avoid common mistakes in Python that lead to undesired side effects</li>\n",
    "<br>\n",
    "\n",
    "<h5>pythonic code </h5>\n",
    "<p>In programming, an idiom is a particular way of writing code in order to performa specific task. It is something common that repeats and follows the same structure every time.Every language will have its\n",
    "idioms, which means the way things are done in that particular language .When the code follows these idioms, it is known as being idiomatic, which in Python is often referred to as <b>Pythonic</b>.\n",
    "<br></p>\n",
    "<br>\n",
    "<hr><h3>Indexes and slices</h3>\n",
    "<p>In Python, working with indexes and slices provides flexibility and simplicity when accessing elements in sequences like lists, tuples, and strings. Here's an example so you know better what we are talking about :\n"
   ]
  },
  {
   "cell_type": "code",
   "execution_count": null,
   "id": "aq5114OB_wfU",
   "metadata": {
    "collapsed": true,
    "id": "aq5114OB_wfU",
    "jupyter": {
     "outputs_hidden": true
    }
   },
   "outputs": [],
   "source": [
    "my_numbers = (4, 5, 3, 9)\n",
    "print(my_numbers[1])\n",
    "print(my_numbers[3])"
   ]
  },
  {
   "cell_type": "markdown",
   "id": "wG_Zku4aAJIU",
   "metadata": {
    "id": "wG_Zku4aAJIU"
   },
   "source": [
    "Some points about <b>indexes</b> to be considered :\n",
    "<li>Python allows you to access elements by their index, starting from 0 for the first element.</li>\n",
    "<li>Unlike some other languages, Python also supports <b>negative</b> indexing, where -1 refers to the last element, -2 to the second last, and so on.</li>\n",
    "<li>Notice that when one of the elements mentioned above earlier (start,stop,step) is missing , it is considered as None value .\n",
    "Let's have a look on this example :\n",
    "\n"
   ]
  },
  {
   "cell_type": "code",
   "execution_count": null,
   "id": "NgsrlsotAjU7",
   "metadata": {
    "id": "NgsrlsotAjU7"
   },
   "outputs": [],
   "source": [
    "my_numbers = (4, 5, 3, 9)\n",
    "print(my_numbers[-1])  # Output: 9\n",
    "print(my_numbers[-3])  # Output: 5"
   ]
  },
  {
   "cell_type": "markdown",
   "id": "4AaWCGGQBKky",
   "metadata": {
    "id": "4AaWCGGQBKky"
   },
   "source": [
    "<br>\n",
    "<h4>Slices : </h4>\n",
    "<p>Slices allow you to access a range of elements from a sequence. The syntax for slicing is <b>sequence[start:stop:step]</b> , which returns elements from the start index up to, but not including, the stop index."
   ]
  },
  {
   "cell_type": "code",
   "execution_count": null,
   "id": "qXOc0Nw7Bz4q",
   "metadata": {
    "id": "qXOc0Nw7Bz4q"
   },
   "outputs": [],
   "source": [
    "my_numbers = (1, 1, 2, 3, 5, 8, 13, 21)\n",
    "print(my_numbers[2:5])  # Output: (2, 3, 5)\n",
    "print(my_numbers[1:7:2])  # Output: (1, 3, 8)"
   ]
  },
  {
   "cell_type": "markdown",
   "id": "EUtletUJCBhS",
   "metadata": {
    "id": "EUtletUJCBhS"
   },
   "source": [
    "<h5>Slice as object :</h5>\n",
    "<p>Python's <b>slice()</b><i> function</i> allows you to create slice objects that can be reused later in the other parts of your code .\n",
    "<br>Have a look on this instance :</p>"
   ]
  },
  {
   "cell_type": "code",
   "execution_count": null,
   "id": "kHlVZbdBCdR5",
   "metadata": {
    "id": "kHlVZbdBCdR5"
   },
   "outputs": [],
   "source": [
    "interval = slice(1, 7, 2)\n",
    "print(my_numbers[interval])  # Output: (1, 3, 8)"
   ]
  },
  {
   "cell_type": "markdown",
   "id": "1NgIoAleCkw7",
   "metadata": {
    "id": "1NgIoAleCkw7"
   },
   "source": [
    "<p>This approach to indexing and slicing makes Python code more intuitive and flexible, supporting the creation of clean, readable, and efficient code."
   ]
  },
  {
   "cell_type": "markdown",
   "id": "LiWrysfZSCxi",
   "metadata": {
    "id": "LiWrysfZSCxi"
   },
   "source": [
    "<hr><h4>Creating your own Sequence </h4>\n",
    "<p>\n",
    "In Python, the behavior of accessing elements by index is handled by a special method known as __getitem__. This magic method is invoked whenever you access an item using the square bracket syntax, such as myobject[key]. Sequences, which include lists, tuples, and strings, are objects that implement both __getitem__ and __len__, making them iterable.\n",
    "</p>\n",
    "<br><li><h5>implementation of <b>__getitem__</b> in custom classes :</h5>\n",
    "<p>Implementing <i>__getitem__</i> in a project which you want to creat your own sequence-like object , is a need . First let us checking some words and expressions together before diving into some essential considerations that ensures you , your implementation is pythonic .\n",
    "<h5>Essential words & phrases :</h5>\n",
    "<ul>\n",
    "<li>1. Wrapping : When we say a custom class \"wraps\" another object, it means that the custom class contains and controls access to that other object. Think of it like wrapping a gift:\n",
    "<ul><li>The gift is the standard object you want to use (like a list, a file, or any other object in Python).</ul></li>\n",
    "<ul><li>The wrapper (like the wrapping paper) is your custom class. It surrounds the gift, making it look different, easier to handle, or adding some extra features(Control Access,Add Features,Change Behavior), but the gift is still inside.</ul></li>\n",
    "\n"
   ]
  },
  {
   "cell_type": "code",
   "execution_count": null,
   "id": "3PkJokFVxr3_",
   "metadata": {
    "id": "3PkJokFVxr3_"
   },
   "outputs": [],
   "source": [
    "class ListWrapper:\n",
    "    def __init__(self):\n",
    "        self._list = []  # This is the \"gift\" inside our wrapper\n",
    "\n",
    "    def add(self, item):\n",
    "        self._list.append(item)\n",
    "        print(f\"Added {item} to the list.\")  # We add our own feature: printing a message\n",
    "\n",
    "    def get_list(self):\n",
    "        return self._list\n"
   ]
  },
  {
   "cell_type": "code",
   "execution_count": null,
   "id": "pR2h2ID5yMY3",
   "metadata": {
    "id": "pR2h2ID5yMY3"
   },
   "outputs": [],
   "source": [
    "wrapped_list = ListWrapper()\n",
    "wrapped_list.add(10)\n",
    "wrapped_list.add(20)\n",
    "print(wrapped_list.get_list())\n"
   ]
  },
  {
   "cell_type": "markdown",
   "id": "CRftCLAYyf6n",
   "metadata": {
    "id": "CRftCLAYyf6n"
   },
   "source": [
    "<ul><li>\n",
    "2. Delegate Behavior : Act of forwarding method calls or operations from one object to another object that actually performs the action. Essentially, instead of implementing the behavior from scratch in the wrapper class, you delegate the work to the underlying object.\n",
    "</ul></li>\n",
    "<br>\n",
    "Here in this example you can see delegation :"
   ]
  },
  {
   "cell_type": "code",
   "execution_count": null,
   "id": "rzxWZgLdzutB",
   "metadata": {
    "id": "rzxWZgLdzutB"
   },
   "outputs": [],
   "source": [
    "class ListWrapper:\n",
    "    def __init__(self):\n",
    "        self._list = []  # This is the underlying object\n",
    "\n",
    "    def add(self, item):\n",
    "        self._list.append(item)  # Delegates adding item to the underlying list\n",
    "\n",
    "    def remove(self, item):\n",
    "        self._list.remove(item)  # Delegates removal to the underlying list\n",
    "\n",
    "    def __getitem__(self, index):\n",
    "        return self._list[index]  # Delegates item retrieval to the underlying list\n",
    "\n",
    "    def __setitem__(self, index, value):\n",
    "        self._list[index] = value  # Delegates item setting to the underlying list\n",
    "\n",
    "    def __len__(self):\n",
    "        return len(self._list)  # Delegates length retrieval to the underlying list\n",
    "\n",
    "    def __str__(self):\n",
    "        return str(self._list)  # Delegates string representation to the underlying list\n"
   ]
  },
  {
   "cell_type": "markdown",
   "id": "etlcq71Iz889",
   "metadata": {
    "id": "etlcq71Iz889"
   },
   "source": [
    "<h5>Delegation usage in above example  :</h5>\n",
    "<li><i>add(item)</i> Method: This method forwards the call to self._list.append(item). The ListWrapper class doesn't implement its own append logic but relies on the list's append method.</p>\n",
    "</li>\n",
    "<br>\n",
    "<li><i>remove(item)</i> Method: This method forwards the call to self._list.remove(item), relying on the list's remove method to handle the actual removal.\n",
    "</li>\n",
    "<br>\n",
    "<li><i>Special</i> Methods: Methods like <i>__getitem__</i> , <i>__setitem__</i> , <i>__len__</i> , and <i>__str__</i> are special methods that the wrapper class delegates to the underlying list to handle indexing, setting items, length calculation, and string conversion, respectively.\n",
    "</li>"
   ]
  },
  {
   "cell_type": "markdown",
   "id": "OMtWxKwK16gF",
   "metadata": {
    "id": "OMtWxKwK16gF"
   },
   "source": [
    "<P>Now let's check what key consideraion is needed for our code to be more pythonic :</p>\n",
    "<ol>\n",
    "<li>Delegation to Underlying Objects : This action ensures compatibility with other Python code and maintains consistency in behavior.Also it's a good idea to delegate behavior to the underlying object specially if your custom class is a wrapper around a standard Python object.Check this example :\n",
    "</li></ol>"
   ]
  },
  {
   "cell_type": "code",
   "execution_count": null,
   "id": "tXT4-Soq2760",
   "metadata": {
    "id": "tXT4-Soq2760"
   },
   "outputs": [],
   "source": [
    "from collections.abc import Sequence\n",
    "\n",
    "class Items(Sequence):\n",
    "    def __init__(self, *values):\n",
    "        self._values = list(values)\n",
    "\n",
    "    def __len__(self):\n",
    "        return len(self._values)\n",
    "\n",
    "    def __getitem__(self, item):\n",
    "        return self._values.__getitem__(item)\n"
   ]
  },
  {
   "cell_type": "markdown",
   "id": "XVpn9jGF29pl",
   "metadata": {
    "id": "XVpn9jGF29pl"
   },
   "source": [
    "<ul><p>In this example, the Items class implements the Sequence interface from the collections.abc module, ensuring it behaves like a standard sequence. The methods __len__ and __getitem__ are delegated to the underlying list, making the Items class a simple wrapper around a list.</p>\n",
    "\n",
    "<p>2. Using the collections.abc Module : For classes intended to behave like standard types (e.g., sequences or mappings), it's good practice to implement interfaces from the collections.abc module. This not only makes the purpose of your class clear but also ensures you implement the necessary methods.\n",
    "\n",
    "<br><br>3. Implementing Non-Wrapper Sequences : <br>If your sequence isn't a wrapper around a built-in object, follow these instructions :\n",
    "\n",
    "<br><ul><li><b>Return the Same Type</b> :<br> When indexing by a range, the result should be an instance of the same type\n",
    "of the class . Theis also know as subtle error . Think about it—when you get a slice of a list , the\n",
    "result is a list ; when you ask for a range in a tuple , the result is a tuple ; and when you ask for a substring , the result is a string.\n",
    "The best example of this is in the standard library, with the range function.\n",
    "\n",
    "\n"
   ]
  },
  {
   "cell_type": "code",
   "execution_count": null,
   "id": "khiVAJfNANb_",
   "metadata": {
    "colab": {
     "base_uri": "https://localhost:8080/"
    },
    "id": "khiVAJfNANb_",
    "outputId": "35ce0d1f-7552-4702-cdb4-898972a2ff37"
   },
   "outputs": [
    {
     "name": "stdout",
     "output_type": "stream",
     "text": [
      "range(26, 51)\n"
     ]
    }
   ],
   "source": [
    "r = range(1, 100)\n",
    "print(r[25:50])  # Output: range(26, 51)"
   ]
  },
  {
   "cell_type": "markdown",
   "id": "IFdrc-4YAOp2",
   "metadata": {
    "id": "IFdrc-4YAOp2"
   },
   "source": [
    "\n",
    "<ul><ul><br><li><b>Follow Python's Slicing Semantics </b>: In the range provided by slice, respect the semantics that Python uses,\n",
    "excluding the element at the end"
   ]
  },
  {
   "cell_type": "markdown",
   "id": "xY_MUonvBFcd",
   "metadata": {
    "id": "xY_MUonvBFcd"
   },
   "source": [
    "<p>In the next section, we'll take the same approach but for context managers. First , we'll see how context managers from the standard library work, and then we'll go to the next level and create our own .\n",
    "</p>"
   ]
  },
  {
   "cell_type": "markdown",
   "id": "z_iNUcmTBVCb",
   "metadata": {
    "id": "z_iNUcmTBVCb"
   },
   "source": [
    "<hr><h3>Context managers :</h3>\n",
    "<p><b>Defenition : </b><br>Context managers are a powerful and Pythonic way to manage resources and execute code with preconditions and postconditions. They ensure that necessary setup and cleanup actions are performed, even in the presence of exceptions. This makes them priceless for tasks like file handling, database connections, and other resource management scenarios.\n",
    "</p>\n",
    "<br><p><b>Usage</b> :\n",
    "<br>Context managers are used when you need to set up a context (preconditions), perform some actions, and then clean up afterward (postconditions). This pattern is common in resource management. For instance, when you open a file or a database connection, you must ensure it is properly closed after you are done, even if an error occurs during processing.\n",
    "</p>\n",
    "<br>\n",
    "<p>Consider the case where you need to open and process a file:</p>"
   ]
  },
  {
   "cell_type": "code",
   "execution_count": null,
   "id": "8bXX_M64RRKe",
   "metadata": {
    "id": "8bXX_M64RRKe"
   },
   "outputs": [],
   "source": [
    "fd = open(filename)\n",
    "try:\n",
    "    process_file(fd)\n",
    "finally:\n",
    "    fd.close()"
   ]
  },
  {
   "cell_type": "markdown",
   "id": "hysaTzo7RmLa",
   "metadata": {
    "id": "hysaTzo7RmLa"
   },
   "source": [
    "<p>As you may noticed , in the code provided here , we have \"finally\" which make sure that even if an exception raised it still works and closes the file . But It's not made with context managers ."
   ]
  },
  {
   "cell_type": "markdown",
   "id": "HkjJLV_NST0n",
   "metadata": {
    "id": "HkjJLV_NST0n"
   },
   "source": [
    "<p><b>With Using Context manager</b> : </p>\n",
    "<p>Python provides a more elegant way to handle such cases using context managers :</p>"
   ]
  },
  {
   "cell_type": "code",
   "execution_count": null,
   "id": "wDwTiwStS1ae",
   "metadata": {
    "id": "wDwTiwStS1ae"
   },
   "outputs": [],
   "source": [
    "with open(filename) as fd:\n",
    "    process_file(fd)"
   ]
  },
  {
   "cell_type": "markdown",
   "id": "xcmTGUV8S2Uf",
   "metadata": {
    "id": "xcmTGUV8S2Uf"
   },
   "source": [
    "<p>In this example, the <b>with</b> statement ensures that the file is automatically closed when the block is exited, regardless of whether an exception occurred.\n",
    "</p>"
   ]
  },
  {
   "cell_type": "markdown",
   "id": "e75X6_DRTL2V",
   "metadata": {
    "id": "e75X6_DRTL2V"
   },
   "source": [
    "<h4>The Context Manager Protocol</h4>\n",
    "<p>To understand how context managers work , it's essential to know about the two special methods : __enter__ and __exit__\n",
    "\n",
    "<li><b>__enter__</b>: This method is called at the start of the with block. Any value it returns can be assigned to a variable after the as keyword .</li>\n",
    "<li><b>__exit__</b>: This method is called when the block is exited, whether due to normal completion or because of an exception. It handles any cleanup that needs to occur.</li>\n",
    "<br>\n",
    "<p>When the with statement is executed, the context manager's <b>__enter__()</b>  method is called before the block of code is executed. The value returned by \"__enter__()\" is assigned to the variable after the as keyword. Once the block of code inside the with statement is complete, the context manager's \"<b>__exit__()</b> \" method is called to clean up any resources.</p>\n",
    "<br>"
   ]
  },
  {
   "cell_type": "markdown",
   "id": "ZFUlT2BbiG10",
   "metadata": {
    "id": "ZFUlT2BbiG10"
   },
   "source": [
    "<h4>3. Creating Custom Context Managers</h4>\n",
    "<p>context managers are often used in resource management, but you can also create custom context managers for other tasks. For example, consider a situation where you need to stop a database service, perform a backup, and then restart the service, regardless of whether the backup was successful.</p>"
   ]
  },
  {
   "cell_type": "code",
   "execution_count": null,
   "id": "ENhlt7qgmmax",
   "metadata": {
    "id": "ENhlt7qgmmax"
   },
   "outputs": [],
   "source": [
    "def stop_database():\n",
    "    run(\"systemctl stop postgresql.service\")\n",
    "\n",
    "def start_database():\n",
    "    run(\"systemctl start postgresql.service\")\n",
    "\n",
    "class DBHandler:\n",
    "    def __enter__(self):\n",
    "        stop_database()\n",
    "        return self\n",
    "\n",
    "    def __exit__(self, exc_type, ex_value, ex_traceback):\n",
    "        start_database()\n",
    "\n",
    "def db_backup():\n",
    "    run(\"pg_dump database\")\n",
    "\n",
    "def main():\n",
    "    with DBHandler():\n",
    "        db_backup()"
   ]
  },
  {
   "cell_type": "markdown",
   "id": "_gmRtgHqmnyX",
   "metadata": {
    "id": "_gmRtgHqmnyX"
   },
   "source": [
    "<li>The <i>__enter__</i> method stops the database.</li>\n",
    "<li>The <i>__exit__</i> method restarts the database, ensuring the service is always restarted even if an error occurs during the backup.</li>\n"
   ]
  },
  {
   "cell_type": "markdown",
   "id": "FelFiUcDnDDe",
   "metadata": {
    "id": "FelFiUcDnDDe"
   },
   "source": [
    "<h4> Exceptions handeling in Context Managers </h4>\n",
    "<p>As previously mentioned , The __exit__ method of a context manager receives information about any exceptions that occur within the block . This allows for custom exception handling if necessary .</p>"
   ]
  },
  {
   "cell_type": "code",
   "execution_count": null,
   "id": "FlP4Riffhjab",
   "metadata": {
    "id": "FlP4Riffhjab"
   },
   "outputs": [],
   "source": [
    "def __exit__(self, exc_type, ex_value, ex_traceback):\n",
    "    start_database()\n",
    "    if exc_type is not None:\n",
    "        # Handle the exception or log it\n",
    "        return False  # Propagate the exception\n",
    "    return True  # Swallow the exception\n"
   ]
  },
  {
   "cell_type": "markdown",
   "id": "jYYfkfmxivzr",
   "metadata": {
    "id": "jYYfkfmxivzr"
   },
   "source": [
    "<p>By default, exceptions are propagated. Returning True from __exit__ prevents the exception from propagating, which can be useful in specific scenarios but should be used with caution to To avoid masking errors unintentionally.</P>"
   ]
  },
  {
   "cell_type": "markdown",
   "id": "UZduc_oo4iQi",
   "metadata": {
    "id": "UZduc_oo4iQi"
   },
   "source": [
    "<br><h4>Implementing context managers</h4>\n",
    "<p>As previosly told , we have a way to implement the context managers and that's implementing them using __enter__ and __exit__ methods . But we have some other ways too to implement this magic tool . <br>let's check them together :\n",
    "<ol><li>Using <b>contextlib.contextmanager</b> for a More Compact Implementation : </li>\n",
    "\n",
    "<ul><li>Python's contextlib module Presents a more concise approach to create context managers using the @contextlib.contextmanager decorator .This approach involves defining a generator function instead of a full class."
   ]
  },
  {
   "cell_type": "code",
   "execution_count": null,
   "id": "LYDEA-1cr0Dt",
   "metadata": {
    "id": "LYDEA-1cr0Dt"
   },
   "outputs": [],
   "source": [
    "import contextlib\n",
    "\n",
    "@contextlib.contextmanager\n",
    "def db_handler():\n",
    "    try:\n",
    "        stop_database()\n",
    "        yield\n",
    "    finally:\n",
    "        start_database()\n"
   ]
  },
  {
   "cell_type": "markdown",
   "id": "cdS3cK4etiNV",
   "metadata": {
    "id": "cdS3cK4etiNV"
   },
   "source": [
    "<p>In this example, the code before the yield statement acts like the \"__enter__\" method, and the code after yield works as the \"__exit__\" method . The yield statement temporarily hands control back to the code block under the with statement, pausing the generator function until that block completes .\n",
    "<br><br><b>Usage :</b></p>"
   ]
  },
  {
   "cell_type": "code",
   "execution_count": null,
   "id": "uNNGSHhTuF-E",
   "metadata": {
    "id": "uNNGSHhTuF-E"
   },
   "outputs": [],
   "source": [
    "with db_handler():\n",
    "    db_backup()"
   ]
  },
  {
   "cell_type": "markdown",
   "id": "dpRWpNrOr0bM",
   "metadata": {
    "id": "dpRWpNrOr0bM"
   },
   "source": [
    "<p>Some words you may not familiar with :\n",
    "<li>Generator :A generator is a special type of function in programming that allows you to iterate over a sequence of values lazily, meaning it generates values on the fly as they are needed, rather than computing them all at once and storing them in memory.\n",
    "<br>\n",
    "</li>\n",
    "<br><li>Decorator :\n",
    "<br>A decorator is a design pattern that allows you to modify or extend the behavior of functions or methods without changing their actual code. It's a way to add new functionality to an existing piece of code in a clean and reusable manner.For example they take a function as an argument and return a new function that enhances or modifies the original function's behavior.\n",
    "</li></p>"
   ]
  },
  {
   "cell_type": "markdown",
   "id": "1_r5reLaw8Ti",
   "metadata": {
    "id": "1_r5reLaw8Ti"
   },
   "source": [
    "<h3>Advanced Context Managers with ContextDecorator</h3>\n",
    "<p>For situations where you want to apply the same context management logic across multiple functions , the <b>ContextDecorator</b> class from the <i>contextlib</i> module can be very useful. This allows you to create a context manager that can be used as both a decorator and a with statement.</p>"
   ]
  },
  {
   "cell_type": "code",
   "execution_count": null,
   "id": "Rebz5kttzwzI",
   "metadata": {
    "id": "Rebz5kttzwzI"
   },
   "outputs": [],
   "source": [
    "import contextlib\n",
    "\n",
    "class DBHandlerDecorator(contextlib.ContextDecorator):\n",
    "    def __enter__(self):\n",
    "        stop_database()\n",
    "        return self\n",
    "\n",
    "    def __exit__(self, exc_type, exc_value, traceback):\n",
    "        start_database()\n",
    "\n",
    "@DBHandlerDecorator()\n",
    "def offline_backup():\n",
    "    run(\"pg_dump database\")\n"
   ]
  },
  {
   "cell_type": "markdown",
   "id": "8nMSo2EZtMC2",
   "metadata": {
    "id": "8nMSo2EZtMC2"
   },
   "source": [
    "<p>Here, the <i>offline_backup</i> function will automatically run within the context manager , meaning the database will be stopped before the backup begins and started again afterward. This approach avoids the need for a with statement inside each function , promoting cleaner and more readable code . </p>\n",
    "<h5>Handling Exceptions with <i> contextlib.suppress</i></h5>\n",
    "<p>Another powerful feature of the contextlib module is the suppress function , which allows you to ignore specific exceptions in a controlled manner. This can be especially useful in situations where you know an exception might occur but it’s safe to ignore it .</p>\n",
    "<div>Example : </div>"
   ]
  },
  {
   "cell_type": "code",
   "execution_count": null,
   "id": "TjUC_d7MDaeg",
   "metadata": {
    "id": "TjUC_d7MDaeg"
   },
   "outputs": [],
   "source": [
    "import contextlib\n",
    "\n",
    "with contextlib.suppress(DataConversionException):\n",
    "    parse_data(input_json_or_dict)\n"
   ]
  },
  {
   "cell_type": "markdown",
   "id": "a3YajmoWDbnn",
   "metadata": {
    "id": "a3YajmoWDbnn"
   },
   "source": [
    "<p>In this example, if \"parse_data\" raises a DataConversionException, the exception will be ignored, and the program will continue executing. This makes it clear that the exception is part of the expected logic and does not need to be handled explicitly.</p>"
   ]
  },
  {
   "cell_type": "markdown",
   "id": "AgEH3ry9GI8M",
   "metadata": {
    "id": "AgEH3ry9GI8M"
   },
   "source": [
    "<br><hr><h3>Comprehension and assignment expressions</h3>\n",
    "<h5>introduction : </h5>\n",
    "<p>Comprehensions in Python provide a concise way to create new data structures like lists, sets, or dictionaries by processing elements from an existing collection . They are preferred for their readability and efficiency, but there are situations where a simple loop might be more appropriate to avoid unnecessary complexity .\n",
    "<br>Consider the following example where a list is created using a for loop :</p>"
   ]
  },
  {
   "cell_type": "code",
   "execution_count": null,
   "id": "Lg3K0d_4G2Zz",
   "metadata": {
    "id": "Lg3K0d_4G2Zz"
   },
   "outputs": [],
   "source": [
    "numbers = []\n",
    "for i in range(10):\n",
    "    numbers.append(run_calculation(i))"
   ]
  },
  {
   "cell_type": "markdown",
   "id": "lw9FL9boG8RC",
   "metadata": {
    "id": "lw9FL9boG8RC"
   },
   "source": [
    "<br><p>Now lets use list comprehension</p>"
   ]
  },
  {
   "cell_type": "code",
   "execution_count": null,
   "id": "vRWOAtOoG7us",
   "metadata": {
    "id": "vRWOAtOoG7us"
   },
   "outputs": [],
   "source": [
    "numbers = [run_calculation(i) for i in range(10)]"
   ]
  },
  {
   "cell_type": "markdown",
   "id": "VlZdEC0IHa6S",
   "metadata": {
    "id": "VlZdEC0IHa6S"
   },
   "source": [
    "<p>The list comprehension is not only more compact but also generally more efficient, as it avoids multiple <b>method calls</b> of append in this case .</p>\n",
    "<p>Take a deeper look at this tool . Consider below example : </p>"
   ]
  },
  {
   "cell_type": "code",
   "execution_count": null,
   "id": "CYpP1LqJH5w9",
   "metadata": {
    "id": "CYpP1LqJH5w9"
   },
   "outputs": [],
   "source": [
    "from typing import Iterable, Set\n",
    "import re\n",
    "\n",
    "def collect_account_ids_from_arns(arns: Iterable[str]) -> Set[str]:\n",
    "    collected_account_ids = set()\n",
    "    for arn in arns:\n",
    "        matched = re.match(ARN_REGEX, arn)\n",
    "        if matched is not None:\n",
    "            account_id = matched.groupdict()[\"account_id\"]\n",
    "            collected_account_ids.add(account_id)\n",
    "    return collected_account_ids"
   ]
  },
  {
   "cell_type": "markdown",
   "id": "V_jJlTejH9C6",
   "metadata": {
    "id": "V_jJlTejH9C6"
   },
   "source": [
    "<p>As you see it's quite boring and also confusing . For just a simple task it's used many lines and waste many times . <br>We need <i>better</i> way so we save both <b>time</b> and <b>readability</b> . <br>\n",
    "comperhension is the key !"
   ]
  },
  {
   "cell_type": "code",
   "execution_count": null,
   "id": "ill9FUVfI9QJ",
   "metadata": {
    "id": "ill9FUVfI9QJ"
   },
   "outputs": [],
   "source": [
    "def collect_account_ids_from_arns(arns: Iterable[str]) -> Set[str]:\n",
    "    matched_arns = filter(None, (re.match(ARN_REGEX, arn) for arn in arns))\n",
    "    return {m.groupdict()[\"account_id\"] for m in matched_arns}"
   ]
  },
  {
   "cell_type": "markdown",
   "id": "8ASqySMjI_v4",
   "metadata": {
    "id": "8ASqySMjI_v4"
   },
   "source": [
    "<p>Here, the filter function removes any <b>None values</b> , and the set comprehension collects the account IDs in a more concise form . This makes the code more efficient and easier to maintain .</p>"
   ]
  },
  {
   "cell_type": "markdown",
   "id": "070YUjcOJQp4",
   "metadata": {
    "id": "070YUjcOJQp4"
   },
   "source": [
    "<h4>Assignment Expressions : </h4>\n",
    "<p>\n",
    "In Python 3.8 , assignment expressions (The \"walrus operator\") were introduced. They allow you to assign a value to a variable as part of an expression , reducing redundancy in cases where you would otherwise need to repeat calculations .\n",
    "</p>\n",
    "<p>We can rewrite last example using this \"assignment expressions\" :"
   ]
  },
  {
   "cell_type": "code",
   "execution_count": null,
   "id": "gXtxviLcJQBx",
   "metadata": {
    "id": "gXtxviLcJQBx"
   },
   "outputs": [],
   "source": [
    "def collect_account_ids_from_arns(arns: Iterable[str]) -> Set[str]:\n",
    "    return {\n",
    "        matched.groupdict()[\"account_id\"]\n",
    "        for arn in arns\n",
    "        if (matched := re.match(ARN_REGEX, arn)) is not None\n",
    "    }\n"
   ]
  },
  {
   "cell_type": "markdown",
   "id": "h1PwbZ03KBqA",
   "metadata": {
    "id": "h1PwbZ03KBqA"
   },
   "source": [
    "<p>In this example , the assignment \"<i>matched := re.match(ARN_REGEX, arn)</i>\" happens within the comprehension, storing the result of the regular expression match. This allows us to reuse the matched object without needing a separate line to store it, making the code even more concise.</p>"
   ]
  },
  {
   "cell_type": "markdown",
   "id": "gTsYmjX8olMV",
   "metadata": {
    "id": "gTsYmjX8olMV"
   },
   "source": [
    "<h5>When to Use Comprehensions vs. Loops </h5>\n",
    "<p>While comprehensions are generally preferred for their compactness and performance , they should not be used at the cost of readability . If the comprehension becomes too complex , it's often better to revert to a <b>regular loop</b> . For example, if a comprehension involves multiple layers of transformations or nested logic , readability can suffer .</p>"
   ]
  },
  {
   "cell_type": "code",
   "execution_count": null,
   "id": "UZDmsx2Lrerj",
   "metadata": {
    "id": "UZDmsx2Lrerj"
   },
   "outputs": [],
   "source": [
    "# Too complex comprehension\n",
    "result = [some_transformation(x) for x in items if condition1 and condition2]"
   ]
  },
  {
   "cell_type": "markdown",
   "id": "tnkc8GqVrhHW",
   "metadata": {
    "id": "tnkc8GqVrhHW"
   },
   "source": [
    "<p>If we use loops we can see how much better it gets . Look at the example rewritten as below : </p>"
   ]
  },
  {
   "cell_type": "code",
   "execution_count": null,
   "id": "jR-IX3Elr0GS",
   "metadata": {
    "id": "jR-IX3Elr0GS"
   },
   "outputs": [],
   "source": [
    "result = []\n",
    "for x in items:\n",
    "    if condition1 and condition2:\n",
    "        result.append(some_transformation(x))\n"
   ]
  },
  {
   "cell_type": "markdown",
   "id": "69DYFPEnr9lj",
   "metadata": {
    "id": "69DYFPEnr9lj"
   },
   "source": [
    "<h4>Some key Performance Considerations </h4>\n",
    "<p>Comprehensions and assignment expressions not only improve readability but can also enhance performance . For instance , in cases where you repeatedly call a function within a loop , assignment expressions allow you to call the function once and store the result , reducing redundant computations .<br>\n",
    "For example this can prevent recalculating the same result multiple times :</p>"
   ]
  },
  {
   "cell_type": "code",
   "execution_count": null,
   "id": "JIeNJhNbuCOB",
   "metadata": {
    "id": "JIeNJhNbuCOB"
   },
   "outputs": [],
   "source": [
    "# Without assignment expression\n",
    "if expensive_function(x) > threshold:\n",
    "    do_something_with(expensive_function(x))\n"
   ]
  },
  {
   "cell_type": "markdown",
   "id": "Q4YXTkIxuErR",
   "metadata": {
    "id": "Q4YXTkIxuErR"
   },
   "source": [
    "<p>And with assignment expression :"
   ]
  },
  {
   "cell_type": "code",
   "execution_count": null,
   "id": "7g5AkqdzuEyK",
   "metadata": {
    "id": "7g5AkqdzuEyK"
   },
   "outputs": [],
   "source": [
    "if (result := expensive_function(x)) > threshold:\n",
    "    do_something_with(result)"
   ]
  },
  {
   "cell_type": "markdown",
   "id": "-Ygf8IJouPgA",
   "metadata": {
    "id": "-Ygf8IJouPgA"
   },
   "source": [
    "<p>This reduces the overhead of calling <i>expensive_function</i> twice , optimizing performance .</p>"
   ]
  },
  {
   "cell_type": "markdown",
   "id": "MBUKeXtEPKde",
   "metadata": {
    "id": "MBUKeXtEPKde"
   },
   "source": [
    "<br><hr><h3>Properties, Attributes, and Methods</h3>\n",
    "<p>In Python , objects are made up of attributes (data) and methods (functions). Unlike some other languages, Python doesn't have strict rules on access levels (public, private, protected) . Instead , we rely on conventions to control access and organize code .</p>\n",
    "<h4><br>1. Attributes: Public vs. Private</h4>\n",
    "<p>In Python , attributes are public by default . That means you can access any of them from outside the class . However , to signal that an attribute is meant to be private , we use an <b>underscore</b>  \" _ \" .</p>"
   ]
  },
  {
   "cell_type": "code",
   "execution_count": null,
   "id": "FqAT0ZjJQoJt",
   "metadata": {
    "id": "FqAT0ZjJQoJt"
   },
   "outputs": [],
   "source": [
    "class Car:\n",
    "    def __init__(self, model, price):\n",
    "        self.model = model         # Public attribute\n",
    "        self._price = price        # Private attribute (by convention)\n"
   ]
  },
  {
   "cell_type": "markdown",
   "id": "tgiIoAkxQpK1",
   "metadata": {
    "id": "tgiIoAkxQpK1"
   },
   "source": [
    "<p>Here we have values : </p>\n",
    "<ol><li>model : model can be accessed or changed by anyone . </li>\n",
    "<li>_price : should only be accessed within the class , although Python doesn't enforce this .</li></ol>"
   ]
  },
  {
   "cell_type": "markdown",
   "id": "nlSZO6O5RTNz",
   "metadata": {
    "id": "nlSZO6O5RTNz"
   },
   "source": [
    "<h4>2. Double Underscores and Name Mangling</h4>\n",
    "<p>If you use <b>double underscores</b> \" __ \" before a variable , Python changes its name to prevent accidental access from outside the class . This is called name mangling .</p>"
   ]
  },
  {
   "cell_type": "code",
   "execution_count": null,
   "id": "AMVNNxawR17D",
   "metadata": {
    "id": "AMVNNxawR17D"
   },
   "outputs": [],
   "source": [
    "class Car:\n",
    "    def __init__(self, model, price):\n",
    "        self.__price = price\n"
   ]
  },
  {
   "cell_type": "markdown",
   "id": "sVxc4lcNR3YL",
   "metadata": {
    "id": "sVxc4lcNR3YL"
   },
   "source": [
    "<p>You won't be able to access \"__price\" directly . Python changes its internal name to <b>_Car__price</b> .<br>\n",
    "But remember , this doesn't make it truly private. You can still access it if you know the mangled name .</p>"
   ]
  },
  {
   "cell_type": "markdown",
   "id": "hNS7yvW8SW9s",
   "metadata": {
    "id": "hNS7yvW8SW9s"
   },
   "source": [
    "<h4>3. Properties: Cleaner access to attributes </h4>\n",
    "<p>In Python, we can use properties to manage <i>access</i> to attributes. This is done using the <b>@property</b> decorator , which allows you to define getter , setter , and deleter methods . Properties let you control how attributes are read or written without changing the class interface .</p>\n",
    "<p>let's take a closer look . consider following example that is checking the range for latitude and longitude values :</p>"
   ]
  },
  {
   "cell_type": "code",
   "execution_count": null,
   "id": "K4aCBmaWSn3Q",
   "metadata": {
    "id": "K4aCBmaWSn3Q"
   },
   "outputs": [],
   "source": [
    "class Coordinate:\n",
    "    def __init__(self, lat, long):\n",
    "        self.latitude = lat\n",
    "        self.longitude = long\n",
    "\n",
    "    @property\n",
    "    def latitude(self):\n",
    "        return self._latitude\n",
    "\n",
    "    @latitude.setter\n",
    "    def latitude(self, value):\n",
    "        if not -90 <= value <= 90:\n",
    "            raise ValueError(\"Invalid latitude\")\n",
    "        self._latitude = value\n"
   ]
  },
  {
   "cell_type": "markdown",
   "id": "rjTqzEaKTxnR",
   "metadata": {
    "id": "rjTqzEaKTxnR"
   },
   "source": [
    "<p>When setting \"coordinate.latitude = 100\" , the setter checks the range and raises an error if it's out of bounds . </p>"
   ]
  },
  {
   "cell_type": "markdown",
   "id": "gFp9DqxGT6pC",
   "metadata": {
    "id": "gFp9DqxGT6pC"
   },
   "source": [
    "<p>Properties help ensure that the internal data of an object is valid while maintaining a simple interface for the user .</p>"
   ]
  },
  {
   "cell_type": "markdown",
   "id": "svYb-_sVUBvS",
   "metadata": {
    "id": "svYb-_sVUBvS"
   },
   "source": [
    "<h4>4. Single Responsibility and Command-Query Separation</h4>\n",
    "<p>Good code design recommends that each method should either do something (command) or answer something (query) , but not both. This is the command-query separation principle .\n",
    "<br>For example :\n",
    "<li> command : Command: car.set_price(20000) (sets the price)</li>\n",
    "<li> Query : car.get_price() (returns the price). </li>\n",
    "With properties , this separation becomes clearer . For instance, car.price = 20000 sets the price , and print(car.price) returns it , making the code more intuitive .</p>"
   ]
  },
  {
   "cell_type": "markdown",
   "id": "SXI2Bzx1ZpF-",
   "metadata": {
    "id": "SXI2Bzx1ZpF-"
   },
   "source": [
    "<h5>Tips to be considered : </h5>\n",
    "<ol><li>Use single underscores to indicate private attributes, and respect that convention.</li>\n",
    "<li>Use properties to manage validation or logic when accessing or setting attributes.</li>\n",
    "<li>Avoid using double underscores (__) unless you need to prevent name collisions in inheritance.</ol><li>\n",
    "<p>By following these principles , you will write more Pythonic and maintainable code while keeping it readable and efficient . </p>\n"
   ]
  },
  {
   "cell_type": "markdown",
   "id": "fGqvRRKsbPE3",
   "metadata": {
    "id": "fGqvRRKsbPE3"
   },
   "source": [
    "<hr><h3>Creating classes with a more compact syntax</h3>"
   ]
  },
  {
   "cell_type": "markdown",
   "id": "T1Cw4neCbdkc",
   "metadata": {
    "id": "T1Cw4neCbdkc"
   },
   "source": [
    "<p>In Python programming, there's often a need to create objects that simply hold values, such as nodes in a tree structure. Traditionally, this involves using the \"__init__\" method to initialize these values , a common pattern like this :</p>"
   ]
  },
  {
   "cell_type": "code",
   "execution_count": null,
   "id": "cbivCOTk4XFR",
   "metadata": {
    "id": "cbivCOTk4XFR"
   },
   "outputs": [],
   "source": [
    "def __init__(self, x, y, … ):\n",
    "    self.x = x\n",
    "    self.y = y\n"
   ]
  },
  {
   "cell_type": "markdown",
   "id": "kvwlJeEx4i28",
   "metadata": {
    "id": "kvwlJeEx4i28"
   },
   "source": [
    "<p>However , Python 3.7 introduced the dataclasses module , which allows for a more elegant and compact way to define such classes . By using the @dataclass decorator , we can remove the need to explicitly write the \"__init__\" method for simple objects . The decorator takes all the class attributes and automatically generates the initialization logic for us .\n",
    "\n",
    "The dataclasses module not only simplifies initialization but also introduces other helpful features . For instance , we can use the field function to define attributes that require a factory function, such as a list that needs to be initialized each time a new object is created .\n",
    "\n",
    "To illustrate this in a practical context , let's consider an R-Trie data structure . This is a specific type of tree, often used to perform efficient searches over text or strings . Each node in an R-Trie holds a value and references to subsequent nodes , with each reference corresponding to a possible character in the dataset . For example , in the case of an English alphabet-based R-Trie, each node might have an array of 26 possible links (one for each letter) .\n",
    "\n",
    "Visually , the structure of an R-Trie node looks something like this:</p>"
   ]
  },
  {
   "cell_type": "markdown",
   "id": "LRBzU82bbdxd",
   "metadata": {
    "id": "LRBzU82bbdxd"
   },
   "source": [
    "<img src=\"https://github.com/amirjoon007/cleancode_packt/raw/main/fig/chapter2-1.png\" alt=\"Chapter 2 Image\" width=\"500\">\n"
   ]
  },
  {
   "cell_type": "markdown",
   "id": "TIhp2Y7Kbd3C",
   "metadata": {
    "id": "TIhp2Y7Kbd3C"
   },
   "source": [
    "<p>In this diagram , you see how each node contains a value (representing a character or its integer representation) and a list of references to other nodes. Each reference in the array points to the next node in the sequence if a valid link exists .</p>"
   ]
  },
  {
   "cell_type": "markdown",
   "id": "u6HTwpxnbd5t",
   "metadata": {
    "id": "u6HTwpxnbd5t"
   },
   "source": [
    "<p>Using dataclasses , we can represent this structure efficiently :</p>"
   ]
  },
  {
   "cell_type": "code",
   "execution_count": null,
   "id": "qVhKjYJG5XRi",
   "metadata": {
    "id": "qVhKjYJG5XRi"
   },
   "outputs": [],
   "source": [
    "from typing import List\n",
    "from dataclasses import dataclass, field\n",
    "\n",
    "# Define the size of the R-Trie, here assuming 26 for the English alphabet\n",
    "R = 26\n",
    "\n",
    "@dataclass\n",
    "class RTrieNode:\n",
    "    value: int  # The value of the node (e.g., character representation)\n",
    "    next_: List[\"RTrieNode\"] = field(default_factory=lambda: [None] * R)  # List of next nodes\n",
    "\n",
    "    def __post_init__(self):\n",
    "        if len(self.next_) != R:\n",
    "            raise ValueError(\"The next_ list must have exactly 26 references\")\n"
   ]
  },
  {
   "cell_type": "markdown",
   "id": "PQOsmYgs5ceI",
   "metadata": {
    "id": "PQOsmYgs5ceI"
   },
   "source": [
    "<p>This class represents a single node in the R-Trie. Let's check the key parts :\n",
    "<li>value: This integer holds the value associated with the node, which could represent a character.</li>\n",
    "<br>\n",
    "<li>next_: This is a list of references to the next nodes in the tree. It uses a default factory <i>(lambda: [None] * R)</i>  to create a list with 26 slots, all initialized to \"None\" .</li>\n",
    "<br>\n",
    "<li> post_init : Since we rely on <i> dataclass </i> to handle initialization , this method runs after initialization to ensure that the \" next_ \" list is always of the correct size. If the list is the wrong length, a <b>ValueError</b> is raised.</li>\n",
    "\n",
    "</p>"
   ]
  },
  {
   "cell_type": "markdown",
   "id": "daqgYkl87CFe",
   "metadata": {
    "id": "daqgYkl87CFe"
   },
   "source": [
    "<h4>Advantages of dataclasses</h4>\n",
    "<p>\n",
    "<li>Code Compactness : With dataclasses , we don't have to manually write repetitive boilerplate code like the \"__init__\" method, especially in classes that mostly store data .</li>\n",
    "\n",
    "<li>Validation : The \"__post_init__\" method allows for validation after object creation. For instance , checking that the list of references has the correct number of entries ensures structural integrity for the R-Trie nodes .</li>\n",
    "\n",
    "<li>Custom Behavior : By using features like field(default_factory=...) , we ensure that mutable defaults (like lists) are correctly managed, avoiding common pitfalls such as sharing the same list instance across multiple objects .</li>"
   ]
  },
  {
   "cell_type": "markdown",
   "id": "D9kaRUOZ7Cmh",
   "metadata": {
    "id": "D9kaRUOZ7Cmh"
   },
   "source": [
    "<p>This is especially useful for data structures like the R-Trie, where we need many similar objects that hold values and references in a highly organized structure. Instead of focusing on repetitive setup, we can focus on the logic that makes the structure unique.</p>"
   ]
  },
  {
   "cell_type": "markdown",
   "id": "pT9lSivobbQt",
   "metadata": {
    "id": "pT9lSivobbQt"
   },
   "source": [
    "<br><hr><h3>Iterable Objects in Python</h3>\n",
    "<p><b>Intro</b> : Python provides built-in iterable objects , such as lists , tuples , sets , and dictionaries. These objects not only hold data in structured forms but can also be iterated using loops to access each value repeatedly . However , built-in iterables are not the only objects that can be looped over . We can also create our own custom iterable objects with user-defined logic .</p>\n",
    "<br>\n",
    "<h4>Iterator protocol : </h4>\n",
    "<p>It's actually the answer to the question \"How Iteration Works in Python\" . When you use a for loop to iterate over an object , Python checks the following, in order :\n",
    "\n",
    "<ol><li><b> Iterator Methods </b> : The object should implement the\n",
    "special methods <b>__iter__()</b> and <b>__next__()</b> .</li>\n",
    "\n",
    "<li> <b>Sequence Fallback</b> : If the above methods are not present , Python checks if the object is a sequence by looking for \"__len__()\" and \"__getitem__()\" methods.</li></ol>\n",
    "\n",
    "Therefore, to customize objects for iteration, you can follow either of these paths:\n",
    "<li>Implement the iterator methods (__iter__ and __next__).</li>\n",
    "<li>Make the object behave like a sequence using __len__ and __getitem__.</li>\n",
    "</p>\n",
    "\n",
    "\n"
   ]
  },
  {
   "cell_type": "markdown",
   "id": "P7SBLdQcfvlC",
   "metadata": {
    "id": "P7SBLdQcfvlC"
   },
   "source": [
    "<h4>Creating Custom Iterable Objects</h4>\n",
    "<p>When Python tries to iterate over an object using \"<b>iter()</b>\" , it first checks for the \" __iter__ \" method. If found , this method is executed , making the object iterable.\n",
    "<br>\n",
    "Example: Creating a Date Range Iterable\n",
    "Let's create a custom iterable object that allows us to iterate over a range of dates , producing one day at a time in each loop iteration."
   ]
  },
  {
   "cell_type": "code",
   "execution_count": null,
   "id": "KywQgspBgPJD",
   "metadata": {
    "id": "KywQgspBgPJD"
   },
   "outputs": [],
   "source": [
    "from datetime import timedelta, date\n",
    "\n",
    "class DateRangeIterable:\n",
    "    \"\"\"An iterable that contains its own iterator object.\"\"\"\n",
    "    def __init__(self, start_date, end_date):\n",
    "        self.start_date = start_date\n",
    "        self.end_date = end_date\n",
    "        self._present_day = start_date\n",
    "\n",
    "    def __iter__(self):\n",
    "        return self\n",
    "\n",
    "    def __next__(self):\n",
    "        if self._present_day >= self.end_date:\n",
    "            raise StopIteration\n",
    "        today = self._present_day\n",
    "        self._present_day += timedelta(days=1)\n",
    "        return today"
   ]
  },
  {
   "cell_type": "markdown",
   "id": "BhaPT-c7gRPH",
   "metadata": {
    "id": "BhaPT-c7gRPH"
   },
   "source": [
    "<p><b>Description : </b>\n",
    "<li>The <b>__init__</b> method initializes the start and end dates .\n",
    "</li>\n",
    "<li>The <b>__iter__</b> method returns self, making the object its own iterator .\n",
    "</li>\n",
    "<li>The <b>__next__</b> method produces the next day and raises StopIteration when there are no more days left .\n",
    "</li>\n",
    "Usage case : </p>"
   ]
  },
  {
   "cell_type": "code",
   "execution_count": null,
   "id": "Kjk-pxBig6iK",
   "metadata": {
    "id": "Kjk-pxBig6iK"
   },
   "outputs": [],
   "source": [
    "# Creating a date range iterable\n",
    "for day in DateRangeIterable(date(2018, 1, 1), date(2018, 1, 5)):\n",
    "    print(day)\n"
   ]
  },
  {
   "cell_type": "markdown",
   "id": "2B6wH2_Hg7hx",
   "metadata": {
    "id": "2B6wH2_Hg7hx"
   },
   "source": [
    "<h4>Deeper look on iteration process : </h4>\n",
    "<p>\n",
    "<ol>\n",
    "<li>Iteration Start : When the for loop begins , Python calls iter() on the object , which triggers the __iter__() method .\n",
    "<li>Fetching Values : In each iteration , the loop calls next() on the object , which triggers the __next__() method to fetch the next value .\n",
    "<li>Stopping Iteration : When there are no more items to iterate , __next__() raises a StopIteration exception , signaling the loop to end .\n",
    "</ol>\n",
    "</p>"
   ]
  },
  {
   "cell_type": "code",
   "execution_count": null,
   "id": "h6JOB2wjhu0K",
   "metadata": {
    "id": "h6JOB2wjhu0K"
   },
   "outputs": [],
   "source": [
    "r = DateRangeIterable(date(2018, 1, 1), date(2018, 1, 5))\n",
    "print(next(r))  # Outputs: 2018-01-01\n",
    "print(next(r))  # Outputs: 2018-01-02"
   ]
  },
  {
   "cell_type": "markdown",
   "id": "u9NJGHvryW7c",
   "metadata": {
    "id": "u9NJGHvryW7c"
   },
   "source": [
    "<h4>Exhuasted iterator : </h4>\n",
    "<p>Once an iterable has been fully iterated , it is exhausted and cannot be reused :\n",
    "</p>"
   ]
  },
  {
   "cell_type": "code",
   "execution_count": null,
   "id": "AFqJHa2jyoYs",
   "metadata": {
    "id": "AFqJHa2jyoYs"
   },
   "outputs": [],
   "source": [
    "r1 = DateRangeIterable(date(2018, 1, 1), date(2018, 1, 5))\n",
    "print(\", \".join(map(str, r1)))  # Outputs: '2018-01-01, 2018-01-02, 2018-01-03, 2018-01-04'\n",
    "print(max(r1))  # Raises ValueError: max() arg is an empty sequence\n"
   ]
  },
  {
   "cell_type": "markdown",
   "id": "HC-0TOxLys32",
   "metadata": {
    "id": "HC-0TOxLys32"
   },
   "source": [
    "<h4>Enhancing Iterables with Generators</h4>\n",
    "<p>To avoid exhausted iterators, it is better to separate the iterable from the iterator. This can be achieved by using generators, which automatically create iterator objects that can be reused.</p>\n",
    "<p>Example : Container Iterable Using a Generator :"
   ]
  },
  {
   "cell_type": "code",
   "execution_count": null,
   "id": "21seNhLUy-VN",
   "metadata": {
    "id": "21seNhLUy-VN"
   },
   "outputs": [],
   "source": [
    "class DateRangeContainerIterable:\n",
    "    def __init__(self, start_date, end_date):\n",
    "        self.start_date = start_date\n",
    "        self.end_date = end_date\n",
    "\n",
    "    def __iter__(self):\n",
    "        current_day = self.start_date\n",
    "        while current_day < self.end_date:\n",
    "            yield current_day\n",
    "            current_day += timedelta(days=1)\n"
   ]
  },
  {
   "cell_type": "code",
   "execution_count": null,
   "id": "7Mj8tctszBk0",
   "metadata": {
    "id": "7Mj8tctszBk0"
   },
   "outputs": [],
   "source": [
    "r1 = DateRangeContainerIterable(date(2018, 1, 1), date(2018, 1, 5))\n",
    "print(\", \".join(map(str, r1)))  # Outputs: '2018-01-01, 2018-01-02, 2018-01-03, 2018-01-04'\n",
    "print(max(r1))  # Outputs: datetime.date(2018, 1, 4)\n"
   ]
  },
  {
   "cell_type": "markdown",
   "id": "feJYLRe6zG6E",
   "metadata": {
    "id": "feJYLRe6zG6E"
   },
   "source": [
    "<h5>Key Differences and Benefits : </h5>\n",
    "<li>Reusability : Each call to \"__iter__()\" creates a new generator , allowing multiple iterations without exhausting the iterable .</li><br>\n",
    "<li>Simplicity : Using yield simplifies creating iterators , reducing the need to manage internal states explicitly .</li>\n"
   ]
  },
  {
   "cell_type": "markdown",
   "id": "5VrCAz7A8f4N",
   "metadata": {
    "id": "5VrCAz7A8f4N"
   },
   "source": [
    "<br><hr><h3>Creating Sequences</h3>\n",
    "<p>Python allows for creating custom objects that can be iterated over, even if they don't define the \"__iter__()\" method. If \"__iter__\" is not defined, Python will look for the \"__getitem__\" method to iterate over the object. If neither method is found , attempting to iterate will raise a <b>TypeError</b>.\n",
    "<br><br>\n",
    "<h4>Understanding Sequences</h4>\n",
    "A sequence is an object that implements both <b>__len__</b> and <b>__getitem__</b> methods. These methods allow the object to retrieve its elements one at a time , in order , starting at index zero . When implementing \"__getitem__\" , it's important to ensure that the method can handle indices properly ; otherwise , the iteration will not work as expected .\n",
    "<br><br>\n",
    "\n",
    "<h5>Key Points of Sequences :</h5>\n",
    "<li>The __len__ method returns the length of the sequence.</li>\n",
    "\n",
    "<li>The __getitem__ method allows access to individual elements by index, supporting both positive and negative indices.</li>\n",
    "<br>\n",
    "<h5>Memory and Performance Trade-offs</h5>\n",
    "In the previous example with iterables, the object used less memory because it only stored one date at a time and knew how to produce each subsequent date on demand . However, this approach comes with the trade-off that accessing the nth element requires iterating through the sequence n times, resulting in a time complexity of <b>O(n)</b> .\n",
    "\n",
    "<i>Sequences</i> , on the other hand, store all elements at once, which allows for constant-time access (O(1)) to any element by index . This approach uses more memory, as all the data is stored upfront , but it provides faster access times . This trade-off between memory usage and computational efficiency is a fundamental concept in computer science .\n",
    "<br><br>\n",
    "<h5>Big-O Notation Recap:</h5>\n",
    "\n",
    "<Li>O(n): Time complexity where the time increases linearly with the size of the input.</Li>\n",
    "\n",
    "<li>O(1): Constant time complexity where access time is independent of the input size.</li>\n",
    "<br>\n",
    "Example: <b>Implementing a Sequence of Dates</b><br>\n",
    "The following implementation shows how to create a custom sequence object that holds a range of dates . This class pre-generates all the dates between the start and end dates and stores them in a list , allowing for direct access to any date using indexing ."
   ]
  },
  {
   "cell_type": "code",
   "execution_count": null,
   "id": "LJWjn2Ik-5rF",
   "metadata": {
    "id": "LJWjn2Ik-5rF"
   },
   "outputs": [],
   "source": [
    "from datetime import timedelta, date\n",
    "\n",
    "class DateRangeSequence:\n",
    "    def __init__(self, start_date, end_date):\n",
    "        self.start_date = start_date\n",
    "        self.end_date = end_date\n",
    "        self._range = self._create_range()\n",
    "\n",
    "    def _create_range(self):\n",
    "        days = []\n",
    "        current_day = self.start_date\n",
    "        while current_day < self.end_date:\n",
    "            days.append(current_day)\n",
    "            current_day += timedelta(days=1)\n",
    "        return days\n",
    "\n",
    "    def __getitem__(self, day_no):\n",
    "        return self._range[day_no]\n",
    "\n",
    "    def __len__(self):\n",
    "        return len(self._range)\n"
   ]
  },
  {
   "cell_type": "markdown",
   "id": "qt9pvu8L_Aus",
   "metadata": {
    "id": "qt9pvu8L_Aus"
   },
   "source": [
    "<p><b>Using the Sequence</b><br>\n",
    "Here's how this sequence behaves when used in practice :\n",
    "</p>\n"
   ]
  },
  {
   "cell_type": "code",
   "execution_count": null,
   "id": "2H6zC-HI_OIw",
   "metadata": {
    "id": "2H6zC-HI_OIw"
   },
   "outputs": [],
   "source": [
    "s1 = DateRangeSequence(date(2018, 1, 1), date(2018, 1, 5))\n",
    "\n",
    "# Iterating over the sequence\n",
    "for day in s1:\n",
    "    print(day)\n",
    "\n",
    "# Output:\n",
    "# 2018-01-01\n",
    "# 2018-01-02\n",
    "# 2018-01-03\n",
    "# 2018-01-04\n",
    "\n",
    "# Accessing elements by index\n",
    "print(s1[0])  # Output: 2018-01-01\n",
    "print(s1[3])  # Output: 2018-01-04\n",
    "print(s1[-1]) # Output: 2018-01-04\n"
   ]
  },
  {
   "cell_type": "markdown",
   "id": "ePnYZ25c_Qv2",
   "metadata": {
    "id": "ePnYZ25c_Qv2"
   },
   "source": [
    "<p>In this example, negative indices work as well because DateRangeSequence delegates these operations to the internal list (_range), maintaining compatibility with standard Python behavior.\n",
    "</p>"
   ]
  },
  {
   "cell_type": "markdown",
   "id": "2LlkCZMnBTiE",
   "metadata": {
    "id": "2LlkCZMnBTiE"
   },
   "source": [
    "<br><hr><h3>Container objects :</h3>\n",
    "<p><b>Container objects</b> in Python are designed to check if an element is present within them using the <b>__contains__</b> method , which typically returns a Boolean value . This method is called automatically when the \"in\" keyword is used, making the code cleaner and more readable .\n",
    "<br><br>\n",
    "<h4>How the \"__contains__\" Method Works</h4>\n",
    "When you use the expression <i>element in container</i> , Python internally calls <i>container.__contains__(element)</i> . Implementing this method allows objects to clearly express whether they contain certain elements, improving code readability and reducing the need for verbose conditional statements .\n",
    "<br><br>\n",
    "<h5>Example Use Case:Marking Coordinates on a Game Map</h5>\n",
    "Imagine a scenario where you have a two-dimensional grid representing a game map, and you need to mark specific points on it. Normally, you might check if a coordinate is within the bounds of the grid using an if statement like this:\n",
    "</p>"
   ]
  },
  {
   "cell_type": "code",
   "execution_count": null,
   "id": "0bGmRfWKCjIC",
   "metadata": {
    "id": "0bGmRfWKCjIC"
   },
   "outputs": [],
   "source": [
    "def mark_coordinate(grid, coord):\n",
    "    if 0 <= coord.x < grid.width and 0 <= coord.y < grid.height:\n",
    "        grid[coord] = MARKED\n"
   ]
  },
  {
   "cell_type": "markdown",
   "id": "RJaVB6FeCk8n",
   "metadata": {
    "id": "RJaVB6FeCk8n"
   },
   "source": [
    "<p>This approach is not very readable, and it leads to code duplication, especially if you need to perform this check frequently.\n",
    "<br>\n",
    "<h4>Improving Readability with __contains__</h4>\n",
    "To make the code more expressive and avoid repetitive checks, you can redesign the <b>grid</b> object so that it can determine whether a coordinate is within its <b>boundaries</b>. This can be achieved by creating a Boundaries class to represent the grid's limits and delegating the containment check to this class.\n",
    "<br>\n",
    "Here's the updated implementation using object-oriented principles and the \"__contains__\" method:\n",
    "</p>"
   ]
  },
  {
   "cell_type": "code",
   "execution_count": null,
   "id": "eb1UKVN2DJjd",
   "metadata": {
    "id": "eb1UKVN2DJjd"
   },
   "outputs": [],
   "source": [
    "class Boundaries:\n",
    "    def __init__(self, width, height):\n",
    "        self.width = width\n",
    "        self.height = height\n",
    "\n",
    "    def __contains__(self, coord):\n",
    "        x, y = coord\n",
    "        return 0 <= x < self.width and 0 <= y < self.height\n",
    "\n",
    "class Grid:\n",
    "    def __init__(self, width, height):\n",
    "        self.width = width\n",
    "        self.height = height\n",
    "        self.limits = Boundaries(width, height)\n",
    "\n",
    "    def __contains__(self, coord):\n",
    "        return coord in self.limits\n"
   ]
  },
  {
   "cell_type": "markdown",
   "id": "pqkDmjgVDQdd",
   "metadata": {
    "id": "pqkDmjgVDQdd"
   },
   "source": [
    "<p><b> Explanation : </b>\n",
    "<ol>\n",
    "\n",
    "<li>Boundaries Class: Represents the limits of the grid . It checks whether a coordinate (represented as a tuple) lies within the defined width and height .</li>\n",
    "\n",
    "<li>Grid Class: Contains a \"Boundaries\" object and delegates the containment check to it , maintaining a clear separation of responsibilities .\n",
    "This design uses composition and delegation, which keeps each class cohesive and focused on a single responsibility .</li>\n",
    "\n",
    "</ol>\n",
    "\n",
    "<h5>Improved Usage</h5>\n",
    "With this design, marking a coordinate on the grid becomes straightforward and expressive :\n",
    "</p>"
   ]
  },
  {
   "cell_type": "code",
   "execution_count": null,
   "id": "eMnMvq6lD6ca",
   "metadata": {
    "id": "eMnMvq6lD6ca"
   },
   "outputs": [],
   "source": [
    "def mark_coordinate(grid, coord):\n",
    "    if coord in grid:\n",
    "        grid[coord] = MARKED\n"
   ]
  },
  {
   "cell_type": "markdown",
   "id": "JQ7ucVzcD-hH",
   "metadata": {
    "id": "JQ7ucVzcD-hH"
   },
   "source": [
    "<p>The statement if coord in grid: is clear and concise, expressing exactly what the code is doing: checking if the coordinate is within the grid boundaries.\n",
    "\n",
    "<h4>Benefits of Using \"__contains__\"</h4>\n",
    "<li>Readability: The code is more readable and expressive.</li>\n",
    "\n",
    "<li>Maintainability: The logic is encapsulated within cohesive classes, making it easier to update or debug.</li>\n",
    "\n",
    "<li>Reusability: The containment logic can be reused wherever necessary without duplicating code.</li>\n",
    "\n",
    "By leveraging the \"__contains__\" method, Python allows you to create cleaner, more Pythonic code that communicates its intent clearly and concisely.\n",
    "</p>"
   ]
  },
  {
   "cell_type": "markdown",
   "id": "GhHAqvOyEXNi",
   "metadata": {
    "id": "GhHAqvOyEXNi"
   },
   "source": [
    "<br><hr><h3>Dynamic attributes for objects</h3>\n",
    "<p><b>Intro</b> : Dynamic attributes allow you to control how attributes are accessed on objects using the \"__getattr__\" magic method . This method is particularly useful when you want to handle requests for attributes that are not explicitly defined on an object , allowing for dynamic behavior and reducing the need for repetitive or boilerplate code .\n",
    "<br><br>\n",
    "<h5>How Attribute Access Works</h5>\n",
    "When you try to access an attribute of an object, Python first looks for it in the object's dictionary \"__dict__\" by calling \"__getattribute__\" . If the attribute is not found, Python then calls the \"__getattr__\" method , passing the name of the missing attribute as a parameter. This provides an opportunity to define custom logic for how to handle undefined attributes .\n",
    "</p>\n",
    "<p>Example: Using \"__getattr__\"  to Handle Dynamic Attributes\n",
    "Consider the following class that demonstrates the use of \"__getattr__\"  : </p>"
   ]
  },
  {
   "cell_type": "code",
   "execution_count": null,
   "id": "6ztB_WxBGbqI",
   "metadata": {
    "id": "6ztB_WxBGbqI"
   },
   "outputs": [],
   "source": [
    "class DynamicAttributes:\n",
    "    def __init__(self, attribute):\n",
    "        self.attribute = attribute\n",
    "\n",
    "    def __getattr__(self, attr):\n",
    "        if attr.startswith(\"fallback_\"):\n",
    "            name = attr.replace(\"fallback_\", \"\")\n",
    "            return f\"[fallback resolved] {name}\"\n",
    "        raise AttributeError(f\"{self.__class__.__name__} has no attribute {attr}\")\n"
   ]
  },
  {
   "cell_type": "markdown",
   "id": "bku61FBuGrB0",
   "metadata": {
    "id": "bku61FBuGrB0"
   },
   "source": [
    "<p>Here's how the class behaves when accessing different attributes :\n",
    "</p>"
   ]
  },
  {
   "cell_type": "code",
   "execution_count": null,
   "id": "HSmwfuHxGwBY",
   "metadata": {
    "id": "HSmwfuHxGwBY"
   },
   "outputs": [],
   "source": [
    "# Creating an object with a defined attribute\n",
    "dyn = DynamicAttributes(\"value\")\n",
    "\n",
    "# Accessing the existing attribute\n",
    "print(dyn.attribute)  # Output: 'value'\n",
    "\n",
    "# Accessing a non-existing attribute that starts with 'fallback_'\n",
    "print(dyn.fallback_test)  # Output: '[fallback resolved] test'\n",
    "\n",
    "# Adding a new attribute directly to the object's dictionary\n",
    "dyn.__dict__[\"fallback_new\"] = \"new value\"\n",
    "print(dyn.fallback_new)  # Output: 'new value'\n",
    "\n",
    "# Using getattr() to safely access an attribute with a default value\n",
    "print(getattr(dyn, \"something\", \"default\"))  # Output: 'default'\n"
   ]
  },
  {
   "cell_type": "markdown",
   "id": "EyfQb7jfGxpw",
   "metadata": {
    "id": "EyfQb7jfGxpw"
   },
   "source": [
    "Explanation of the Code\n"
   ]
  },
  {
   "cell_type": "markdown",
   "id": "H96M5KhOGzaz",
   "metadata": {
    "id": "H96M5KhOGzaz"
   },
   "source": [
    "<p><ol>\n",
    "<li>Direct Attribute Access: Accessing an existing attribute like dyn.attribute works normally and returns its value.</li>\n",
    "<br>\n",
    "<li>Dynamic Handling with \"__getattr__\" : When you try to access an undefined attribute starting with \"fallback_\", the \"__getattr__\"  method is triggered, transforming the attribute name and returning a customized string.</li>\n",
    "<br>\n",
    "<li>Direct Dictionary Manipulation: Adding attributes directly to the object's dictionary bypasses \"__getattr__\" , demonstrating that explicitly defined attributes take precedence.</li>\n",
    "<br>\n",
    "<li>Using \"getattr()\" with a Default Value: If __getattr__ raises an AttributeError, getattr() returns the specified default value instead of raising an exception.</li></p>"
   ]
  },
  {
   "cell_type": "markdown",
   "id": "OUw2lCCIGdEy",
   "metadata": {
    "id": "OUw2lCCIGdEy"
   },
   "source": [
    "<p><h5>Practical Applications of __getattr__</h5>\n",
    "\n",
    "<li>Creating Proxies: __getattr__ can be used to create proxy objects that delegate attribute access to another underlying object, avoiding the need to manually define and map each attribute.</li>\n",
    "<br>\n",
    "<li>Dynamic Computation: In situations where attributes need to be computed dynamically, such as in APIs or libraries like GraphQL with Graphene, __getattr__ can be used to resolve these properties without boilerplate code.</li>\n",
    "<br>\n",
    "<b>Caution with __getattr__ : </b>\n",
    "<br>While __getattr__ is powerful, it should be used carefully:\n",
    "\n",
    "<li>Readability Concerns: Overusing __getattr__ can make code harder to understand, as attributes are not explicitly declared.</li>\n",
    "<br>\n",
    "<li>Debugging Complexity: Dynamically appearing attributes can complicate debugging and maintenance since their presence and behavior are not immediately clear from the class definition.</li>\n",
    "<br>Last word<br>\n",
    "Use __getattr__ when it simplifies code and reduces redundancy, but avoid using it to the extent that it obscures the intent and structure of your objects .\n",
    "\n",
    "\n",
    "\n",
    "\n",
    "\n",
    "\n",
    "\n"
   ]
  },
  {
   "cell_type": "markdown",
   "id": "laZoRUUKJA9G",
   "metadata": {
    "id": "laZoRUUKJA9G"
   },
   "source": [
    "<br><hr><h3>Callable objects</h3>"
   ]
  }
 ],
 "metadata": {
  "colab": {
   "provenance": []
  },
  "kernelspec": {
   "display_name": "Python 3 (ipykernel)",
   "language": "python",
   "name": "python3"
  },
  "language_info": {
   "codemirror_mode": {
    "name": "ipython",
    "version": 3
   },
   "file_extension": ".py",
   "mimetype": "text/x-python",
   "name": "python",
   "nbconvert_exporter": "python",
   "pygments_lexer": "ipython3",
   "version": "3.11.7"
  }
 },
 "nbformat": 4,
 "nbformat_minor": 5
}
