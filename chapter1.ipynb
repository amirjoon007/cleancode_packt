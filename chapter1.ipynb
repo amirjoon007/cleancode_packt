{
  "cells": [
    {
      "cell_type": "markdown",
      "metadata": {
        "id": "view-in-github",
        "colab_type": "text"
      },
      "source": [
        "<a href=\"https://colab.research.google.com/github/amirjoon007/cleancode_packt/blob/main/project_karshenasie.ipynb\" target=\"_parent\"><img src=\"https://colab.research.google.com/assets/colab-badge.svg\" alt=\"Open In Colab\"/></a>"
      ]
    },
    {
      "cell_type": "markdown",
      "id": "4d66d59c-117c-4cea-ae05-4a6eda4b5e74",
      "metadata": {
        "id": "4d66d59c-117c-4cea-ae05-4a6eda4b5e74"
      },
      "source": [
        "<h1>\n",
        "  <span style=\"color: #1E90FF;\">Clean </span>  <!-- DodgerBlue -->\n",
        "  <span style=\"color: #32CD32;\">Code </span>   <!-- LimeGreen -->\n",
        "  <span style=\"color: #FFA500;\">Learning</span> <!-- Orange -->\n",
        "</h1>\n"
      ]
    },
    {
      "cell_type": "markdown",
      "id": "b0e9ebdc-62d1-4630-b640-df1813a8918d",
      "metadata": {
        "id": "b0e9ebdc-62d1-4630-b640-df1813a8918d"
      },
      "source": [
        "<h2>Chapter 1 : Code formating and tools</h2>"
      ]
    },
    {
      "cell_type": "markdown",
      "id": "65b5ecd1-0bb8-4fdc-ba32-f17e9e67fa23",
      "metadata": {
        "id": "65b5ecd1-0bb8-4fdc-ba32-f17e9e67fa23"
      },
      "source": [
        "<p>\n",
        "Hello guys welcome to the first chapter of our learning . lets start !\n",
        "</p>\n",
        "<p>\n",
        "you know guys learning how to code is one thing and learning how to do clean coding is another thing . Consider a building made of diamonds and golds and a building made of rocks . They both are houses but one is fancy and priceless and another one isn't . That's how your code will look like if you use clean code or Not ! so the next time you start coding consider the cleaning of the code too !\n",
        "</p>"
      ]
    },
    {
      "cell_type": "markdown",
      "id": "696e6878-1c8e-4251-9d86-ee5915311cae",
      "metadata": {
        "id": "696e6878-1c8e-4251-9d86-ee5915311cae"
      },
      "source": [
        "<p>\n",
        "In this chapter I'm going to talk about the basics of the <b style=\"color: #1E90FF;\">clean </b><b style=\"color: #32CD32;\">code </b> , what it is and what it means .\n",
        "</p>"
      ]
    },
    {
      "cell_type": "markdown",
      "id": "03c21e9a-fe1a-4dec-b06a-08b6cf81902f",
      "metadata": {
        "id": "03c21e9a-fe1a-4dec-b06a-08b6cf81902f"
      },
      "source": [
        "<h3 style=\"color:#0B223D\">The meaning of clean code </h3>"
      ]
    },
    {
      "cell_type": "markdown",
      "id": "d8bb2d09-2895-4748-a9f8-ba9641584f56",
      "metadata": {
        "id": "d8bb2d09-2895-4748-a9f8-ba9641584f56"
      },
      "source": [
        "<p>\n",
        "There is no exact and strict defenition off <b>clean code </b>. Moreover , there is probably no way of formally measuring clean code, so you can't run a tool on a reespository that will tell you how good,bad or maintainable that code is ."
      ]
    },
    {
      "cell_type": "markdown",
      "id": "b5c74c6a-0d1b-4bec-bf3b-3abdb3a67943",
      "metadata": {
        "id": "b5c74c6a-0d1b-4bec-bf3b-3abdb3a67943"
      },
      "source": [
        "<p>\n",
        "For dacades, we thought that <b style=\"color:#5E5E5E\">programming languages </b>were meant to communicate our ideas to machines so they could run programs .It turned out we were wrong about it . The real purpose of these languages is to communicate our ideas to other developers . So if we want to be more accurate about the meaning of it we can relate the meaning of the clean code to the good or bad archietecture,code or anything that matters in coding in a way changes the readablity of our codes . With a clean codes the gates for other developers will be opened so they can help you upgrade your code and make it better .\n",
        "</p>"
      ]
    },
    {
      "cell_type": "markdown",
      "source": [
        "<h3 style=\"color:#0B223D\"> The importance of having clean code </h3>"
      ],
      "metadata": {
        "id": "1g3-f-SJxjdQ"
      },
      "id": "1g3-f-SJxjdQ"
    },
    {
      "cell_type": "markdown",
      "source": [
        "<p>\n",
        "There are a huge number of reasons why clean code is important. Most of them\n",
        "revolve around the ideas of <b style=\"color:#5E5E5E\">maintainability</b>, reducing technical debt, working\n",
        "effectively with agile development, and managing a successful project.<br>\n",
        "The idea of clean codes mostly want us to write codes in a way that we don't have to spend a lot of time on checking what exactly the last developer did . so If you want to move at a steady, constant, and predictable pace, the code needs to be maintainable and readable. If it is not, every time product management asks for a new feature, you will have to stop to refactor and fix the <b>technical debt</b>.\n",
        "</p>"
      ],
      "metadata": {
        "id": "4pf9KkRlxpno"
      },
      "id": "4pf9KkRlxpno"
    },
    {
      "cell_type": "markdown",
      "source": [
        "<h4>Technical debt</h4>"
      ],
      "metadata": {
        "id": "czz3Lz__zdha"
      },
      "id": "czz3Lz__zdha"
    },
    {
      "cell_type": "markdown",
      "source": [
        "<p>\n",
        "Technical debt refers to the concept of problems in the software as a result of a\n",
        "compromise or a bad decision being made. It's possible to think about technical debt\n",
        "in two ways :<li>From the present to the past: In a way that the problems we are currently\n",
        "facing are the result of previously written bad code <bR ><span style=\"color:##006699\">OR</span><br> <li>From the present to the\n",
        "future: if we decide to take a shortcut now, instead of investing time in a proper\n",
        "solution, what problems are we creating for ourselves further down the line ?</li>\n",
        "</p><p> So every time the team cannot deliver something on time and has to stop to fix and\n",
        "refactor the code, it is paying the price of technical debt.That's the place where we can see the impact of clean code ! <br>\n",
        "The worst thing about technical debt is that it represents a long-term and underlying\n",
        "problem. It is not something that raises an alarm. Instead, it is a silent problem,\n",
        "scattered across all parts of the project, that one day, at one particular time, will\n",
        "wake up and become a show-stopper.\n",
        "</p>"
      ],
      "metadata": {
        "id": "va_slQfTzk3J"
      },
      "id": "va_slQfTzk3J"
    },
    {
      "cell_type": "markdown",
      "source": [
        "All you need to consider is that <b>\"we write clean code so we can maintain a project.\"</b>. That means to be able to modify that code ourselves in the future, or, if we're transitioning the ownership of that code to another team in the company, to make this transition easier ."
      ],
      "metadata": {
        "id": "aR6hbtZ186g5"
      },
      "id": "aR6hbtZ186g5"
    },
    {
      "cell_type": "code",
      "source": [
        "from google.colab import drive\n",
        "drive.mount('/content/drive')"
      ],
      "metadata": {
        "colab": {
          "base_uri": "https://localhost:8080/"
        },
        "id": "0O7K9ayDvTVP",
        "outputId": "0d7a261b-16d6-4aba-a506-102e09af5034"
      },
      "id": "0O7K9ayDvTVP",
      "execution_count": null,
      "outputs": [
        {
          "output_type": "stream",
          "name": "stdout",
          "text": [
            "Drive already mounted at /content/drive; to attempt to forcibly remount, call drive.mount(\"/content/drive\", force_remount=True).\n"
          ]
        }
      ]
    },
    {
      "cell_type": "markdown",
      "source": [
        "<h3>Code formatting and style </h3>"
      ],
      "metadata": {
        "id": "8cs5MYdg9iGJ"
      },
      "id": "8cs5MYdg9iGJ"
    },
    {
      "cell_type": "markdown",
      "source": [
        "<p>\n",
        "You may have hear about the PEP8 that says some explanations about how the code should be formatted . This standard provides us some guidlines on how to write programs in term of spacing ,naming,line length and some other stuffs .\n",
        "The bad news is clean code is something beyond the PEP8 and other coding standards . It's all about achieving quality software and building a system that is <b>robust and maintainable </b>\n",
        "<p>\n",
        "The first thing we all should learn about is to have dicipline . By that we will get the mistakes happend in the code faster and we will have a higher quality of coding in our company . let's take a example for you : <br> Suppose you are in the company and you have a rules there on how to write codes . So in the case you write a code with wrong pattern the others get this anomaly faster and easily so the project will not face the failure and every problem goes away easier . </p>\n",
        "<p>\n",
        "When the codeis structured randomly, without following any logic, or adhering to any standard,then it would be as difficult for us to spot mistakes as a novice developer. On theother hand, if we are used to reading code in a structured fashion, and we havelearned to get ideas quickly from the code by following patterns, then we are at a considerable advantage.<br>\n",
        "For python it's more common among peaopleto use PEP8 as pattern to shape the style of their coding . So try to use this standard .\n",
        "</p>"
      ],
      "metadata": {
        "id": "NWPxuVov_2Sp"
      },
      "id": "NWPxuVov_2Sp"
    },
    {
      "cell_type": "markdown",
      "source": [
        "<P>\n",
        "We are now discuss about some key quality traits highlighted in PEP-8 and how adhering to these guidelines can improve your project's code quality. Here is some of them :\n",
        "</p>\n",
        "<h4>1:) searchablity : </h4>\n",
        "<p>Searchablity is the ability to quickly identify and locate specific parts of the code. It allows developers to efficiently find particular strings or tokens within files.<br>As you can see below in the example we look for the parameter named \"location\" so we used grep command and it shown us where does parameter named \"location\" is assigned a value.</p>"
      ],
      "metadata": {
        "id": "nCV2SBB-ED-o"
      },
      "id": "nCV2SBB-ED-o"
    },
    {
      "cell_type": "markdown",
      "source": [
        "<img src=\"https://raw.githubusercontent.com/amirjoon007/cleancode_packt/main/fig/chap1-1.jpg\" alt=\"Image not found\">\n",
        "<br>\n",
        "<p>This command above searches for the keyword \"location=\" without spaces around the equals sign, indicating a keyword argument.<br><br>To find where the variable location is assigned a value, you can use:\n",
        "</p>\n",
        "<br>\n",
        "<img src=\"https://raw.githubusercontent.com/amirjoon007/cleancode_packt/main/fig/chap1-1.jpg\" alt=\"Image not found\">\n",
        "<br>"
      ],
      "metadata": {
        "id": "GVlTYZyW2lWa"
      },
      "id": "GVlTYZyW2lWa"
    },
    {
      "cell_type": "markdown",
      "source": [
        "<h3>2:) consistancy :</h3>"
      ],
      "metadata": {
        "id": "UYC6x8KT9dFI"
      },
      "id": "UYC6x8KT9dFI"
    },
    {
      "cell_type": "markdown",
      "source": [
        "<p>\n",
        "Consistency in code formatting ensures that the code looks uniform across the entire project, making it easier to read and understand.It also helps maintain readability and reduces cognitive load .\n",
        "Some of the important guidlines mentioned in PEP8 are as follows :\n",
        "<p><h4>A : Naming conventions</h4> : Using clear and descriptive names for variables and functions is indeed a best practice in programming. It enhances code readability and maintainability, making it easier for others (and yourself) to understand the purpose and functionality of your code.\n",
        "<br> <h5>Advices Of Experts : </h5>\n",
        "<li><b>Be Descriptive</b>: Choose names that clearly describe what the variable or function does.\n",
        "<ul><li>good form : data_sum</li>      <li>bad form : ds</li>        </li></ul>\n",
        "<li><b>Use Consistent Naming Patterns: </b>Follow a consistent naming convention throughout your codebase.</li>\n",
        "<li><b>Avoid Abbreviations:</b>Unless they are universally understood, avoid using abbreviations or acronyms .</li>\n",
        "<li><b>Use Nouns for Variables and Verbs for Functions: </b>This makes it clear what the variable represents and what the function does.</li>\n",
        "</p>\n",
        "<h5>variables :</h5>\n",
        "<li><b>Good :</b></li>\n",
        "</p>"
      ],
      "metadata": {
        "id": "Q1foOKruFvBI"
      },
      "id": "Q1foOKruFvBI"
    },
    {
      "cell_type": "code",
      "source": [
        "U_Age = 25\n",
        "totalPrice = 100.50\n",
        "interestRate = 0.05\n"
      ],
      "metadata": {
        "id": "1Q623lUKFzPh"
      },
      "id": "1Q623lUKFzPh",
      "execution_count": 10,
      "outputs": []
    },
    {
      "cell_type": "markdown",
      "source": [
        "<li>Bad :</li>"
      ],
      "metadata": {
        "id": "ZQKv4Ba4OB-w"
      },
      "id": "ZQKv4Ba4OB-w"
    },
    {
      "cell_type": "code",
      "source": [
        "ua = 25\n",
        "tp = 100.50\n",
        "ir = 0.05"
      ],
      "metadata": {
        "id": "u4EQnDBXObVX"
      },
      "id": "u4EQnDBXObVX",
      "execution_count": null,
      "outputs": []
    },
    {
      "cell_type": "markdown",
      "source": [
        "<li>Functions :</li>"
      ],
      "metadata": {
        "id": "715Oi3nROtVR"
      },
      "id": "715Oi3nROtVR"
    },
    {
      "cell_type": "markdown",
      "source": [
        "<li>Good :</li>"
      ],
      "metadata": {
        "id": "uqxZMubWObzK"
      },
      "id": "uqxZMubWObzK"
    },
    {
      "cell_type": "code",
      "source": [
        "def calculate_interest(principal, rate, time):\n",
        "    return principal * rate * time\n",
        "\n",
        "def is_user_logged_in(user):\n",
        "    return user.is_authenticated\n"
      ],
      "metadata": {
        "id": "J4jsQJjXO5AB"
      },
      "id": "J4jsQJjXO5AB",
      "execution_count": null,
      "outputs": []
    },
    {
      "cell_type": "markdown",
      "source": [
        "<li>Bad :</li>"
      ],
      "metadata": {
        "id": "6JvdMd8nO57P"
      },
      "id": "6JvdMd8nO57P"
    },
    {
      "cell_type": "code",
      "source": [
        "def ci(p, r, t):\n",
        "    return p * r * t\n",
        "\n",
        "def chk_usr_lgn(u):\n",
        "    return u.auth\n"
      ],
      "metadata": {
        "id": "P3ONkzlBO9JP"
      },
      "id": "P3ONkzlBO9JP",
      "execution_count": null,
      "outputs": []
    },
    {
      "cell_type": "markdown",
      "source": [
        "<h4>B:) Indentation Rules :</h4>\n",
        "<p> Stick to an indentation of four spaces for each level. This approach helps in creating a visual structure in your code, making it more readable.</p>\n",
        "<br>\n",
        "<h4>C:) Managing Line Length:</h4>\n",
        "<p>Keep your lines up to a maximum of 79 characters. This practice is not just about aesthetics; it is about making sure your code is easily readable on different devices and text editors.</p>\n",
        "<br>\n",
        "<h4>D:) Whitespace Usage:</h4>\n",
        "<p>Be judicious in your use of whitespace in expressions and statements. The goal is to use it in a way that logically separates different parts of your code without making it feel overcrowded.</p>\n",
        "\n"
      ],
      "metadata": {
        "id": "UK_DQkG7faLw"
      },
      "id": "UK_DQkG7faLw"
    },
    {
      "cell_type": "markdown",
      "source": [
        "<h3>3:) Better Error Handling :</h3>\n",
        "<p>Proper error handling involves writing code that effectively manages exceptions and errors, reducing the likelihood of bugs.It's suggested to Limit the amount of code inside a <b>try/except block</b> to minimize the risk of swallowing exceptions and masking bugs.<br>As an example you may want to check this out : </p>"
      ],
      "metadata": {
        "id": "k6jMnT6ViKvA"
      },
      "id": "k6jMnT6ViKvA"
    },
    {
      "cell_type": "code",
      "source": [
        "try:\n",
        "    result = risky_operation()\n",
        "except SpecificException as e:\n",
        "    handle_error(e)\n"
      ],
      "metadata": {
        "id": "DBJwvbjpjzCL"
      },
      "id": "DBJwvbjpjzCL",
      "execution_count": null,
      "outputs": []
    },
    {
      "cell_type": "markdown",
      "source": [],
      "metadata": {
        "id": "BA-scpQLjz_C"
      },
      "id": "BA-scpQLjz_C"
    }
  ],
  "metadata": {
    "kernelspec": {
      "display_name": "Python 3 (ipykernel)",
      "language": "python",
      "name": "python3"
    },
    "language_info": {
      "codemirror_mode": {
        "name": "ipython",
        "version": 3
      },
      "file_extension": ".py",
      "mimetype": "text/x-python",
      "name": "python",
      "nbconvert_exporter": "python",
      "pygments_lexer": "ipython3",
      "version": "3.11.7"
    },
    "colab": {
      "provenance": [],
      "include_colab_link": true
    }
  },
  "nbformat": 4,
  "nbformat_minor": 5
}
